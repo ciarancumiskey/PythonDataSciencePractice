{
 "cells": [
  {
   "cell_type": "code",
   "execution_count": 3,
   "id": "greenhouse-brunswick",
   "metadata": {},
   "outputs": [
    {
     "name": "stdout",
     "output_type": "stream",
     "text": [
      "Hello there!\n"
     ]
    }
   ],
   "source": [
    "print(\"Hello there!\")"
   ]
  },
  {
   "cell_type": "code",
   "execution_count": 4,
   "id": "abandoned-municipality",
   "metadata": {},
   "outputs": [
    {
     "name": "stdout",
     "output_type": "stream",
     "text": [
      "General Kenobi! You are a bold one!\n"
     ]
    }
   ],
   "source": [
    "print(\"General Kenobi! You are a bold one!\")"
   ]
  },
  {
   "cell_type": "code",
   "execution_count": 5,
   "id": "cultural-solomon",
   "metadata": {},
   "outputs": [
    {
     "name": "stdout",
     "output_type": "stream",
     "text": [
      "Hello\n",
      "World!\n"
     ]
    }
   ],
   "source": [
    "print(\"Hello\\nWorld!\")"
   ]
  },
  {
   "cell_type": "code",
   "execution_count": 6,
   "id": "cloudy-integer",
   "metadata": {},
   "outputs": [],
   "source": [
    "Numbers=\"0123456\""
   ]
  },
  {
   "cell_type": "code",
   "execution_count": 9,
   "id": "healthy-outdoors",
   "metadata": {},
   "outputs": [
    {
     "data": {
      "text/plain": [
       "'036'"
      ]
     },
     "execution_count": 9,
     "metadata": {},
     "output_type": "execute_result"
    }
   ],
   "source": [
    "Numbers[::3]"
   ]
  },
  {
   "cell_type": "code",
   "execution_count": 8,
   "id": "numerous-segment",
   "metadata": {},
   "outputs": [
    {
     "data": {
      "text/plain": [
       "1"
      ]
     },
     "execution_count": 8,
     "metadata": {},
     "output_type": "execute_result"
    }
   ],
   "source": [
    "Numbers.find('1')"
   ]
  },
  {
   "cell_type": "code",
   "execution_count": null,
   "id": "institutional-mortality",
   "metadata": {},
   "outputs": [],
   "source": []
  }
 ],
 "metadata": {
  "kernelspec": {
   "display_name": "Python 3",
   "language": "python",
   "name": "python3"
  },
  "language_info": {
   "codemirror_mode": {
    "name": "ipython",
    "version": 3
   },
   "file_extension": ".py",
   "mimetype": "text/x-python",
   "name": "python",
   "nbconvert_exporter": "python",
   "pygments_lexer": "ipython3",
   "version": "3.9.1"
  }
 },
 "nbformat": 4,
 "nbformat_minor": 5
}
